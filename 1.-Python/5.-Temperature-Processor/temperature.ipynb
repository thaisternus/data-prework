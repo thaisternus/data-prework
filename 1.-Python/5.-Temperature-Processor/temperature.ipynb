{
 "cells": [
  {
   "cell_type": "markdown",
   "metadata": {},
   "source": [
    "<img src=\"https://bit.ly/2VnXWr2\" width=\"100\" align=\"left\">"
   ]
  },
  {
   "cell_type": "markdown",
   "metadata": {},
   "source": [
    "# Temperature Sensor\n",
    "\n",
    "There is a temperature sensor in the processor of your company's server. The company wants to analyze the data provided by the sensor to decide if they should change the cooling system for a better one. As changing the cooling system is expensive and you are an excellent data analyst, you can't make a decision without basis.\n",
    "\n",
    "## Tools\n",
    "You don't necessarily need to use all the tools. Maybe you opt to use some of them or completely different ones, they are given to help you shape the exercise. Programming exercises can be solved in many different ways.\n",
    "1. Data structures: **lists**\n",
    "2. Loops: **list comprehension**\n",
    "3. Functions: **min, max, print, len**\n",
    "4. Conditional statements: **if-elif-else**\n",
    "\n",
    "## Tasks\n",
    "The temperatures measured throughout the 24 hours of a day are:"
   ]
  },
  {
   "cell_type": "code",
   "execution_count": null,
   "metadata": {},
   "outputs": [],
   "source": [
    "temperatures_C = [33, 66, 65, 0, 59, 60, 62, 64, 70, 76, 80, 81, 80, 83, 90, 79, 61, 53, 50, 49, 53, 48, 45, 39]"
   ]
  },
  {
   "cell_type": "markdown",
   "metadata": {},
   "source": [
    "The first element of the list is the temperature at 12am, the second element is the temperature at 1am, and so on. \n",
    "\n",
    "The company has decided that if one of the following events occurs, then the cooling system needs to be replaced for a new one to avoid damaging the processor.\n",
    "* More than 4 temperatures are greater than or equal to 70ºC.\n",
    "* Any temperature is above 80ºC.\n",
    "* The average temperature exceeds 65ºC.\n",
    "\n",
    "Follow the steps so that you can make the decision.\n",
    "\n",
    "#### 1. Find the minimum temperature of the day and store it in a variable."
   ]
  },
  {
   "cell_type": "code",
   "execution_count": null,
   "metadata": {},
   "outputs": [],
   "source": [
    ">>> minimum=min(temperatures_C)\n",
    ">>> print(\"The minimum temperature of th day,\", minimum)\n",
    "The minimum temperature of the day, 0 ºC"
   ]
  },
  {
   "cell_type": "markdown",
   "metadata": {},
   "source": [
    "#### 2. Find the maximum temperature of the day and store it in a variable."
   ]
  },
  {
   "cell_type": "code",
   "execution_count": null,
   "metadata": {},
   "outputs": [],
   "source": [
    ">>> maximum=max(temperatures_C)\n",
    ">>> print(\"The maximum temperature of the day,\", maximum)\n",
    "The maximum temperature of the day, 90  ºC"
   ]
  },
  {
   "cell_type": "markdown",
   "metadata": {},
   "source": [
    "#### 3. Create a list with the temperatures that are greater than or equal to 70ºC. Store it in a variable."
   ]
  },
  {
   "cell_type": "code",
   "execution_count": null,
   "metadata": {},
   "outputs": [],
   "source": [
    ">>> highttemp=[]\n",
    ">>> for t in range(len(temperatures_C)):\n",
    "...     if temperatures_C[t]>70:\n",
    "...             highttemp.append(temperatures_C[t])\n",
    "... \n",
    ">>> print(\"Temperatures higher than 70º:\", highttemp)\n",
    "Temperatures higher than 70º: [76, 80, 81, 80, 83, 90, 79]"
   ]
  },
  {
   "cell_type": "markdown",
   "metadata": {},
   "source": [
    "#### 4. Find the average temperature of the day and store it in a variable."
   ]
  },
  {
   "cell_type": "code",
   "execution_count": null,
   "metadata": {},
   "outputs": [],
   "source": [
    ">>> avgtemp=(sum(temperatures_C)/len(temperatures_C))\n",
    ">>> print(\"The average temperature of the day is:\", avgtemp)\n",
    "The average temperature of the day is: 60.25"
   ]
  },
  {
   "cell_type": "markdown",
   "metadata": {},
   "source": [
    "#### 5. Imagine that there was a sensor failure at 3am and the data for that specific hour was not recorded. How would you estimate the missing value? Replace the current value of the list at 3am for an estimation. "
   ]
  },
  {
   "cell_type": "code",
   "execution_count": null,
   "metadata": {},
   "outputs": [],
   "source": [
    ">>> newtemp=int((temperatures_C[2]+temperatures_C[4])/2)\n",
    ">>> print(newtemp)\n",
    "62 "
   ]
  },
  {
   "cell_type": "markdown",
   "metadata": {},
   "source": [
    "#### 6. Bonus: the maintenance staff is from the United States and does not understand the international metric system. Help them by converting the temperatures from Celsius to Fahrenheit.\n",
    "To know more about temperature conversion check this [link](https://en.wikipedia.org/wiki/Conversion_of_units_of_temperature).\n",
    "\n",
    "**Formula**: \n",
    "\n",
    "$F = 1.8 * C + 32$"
   ]
  },
  {
   "cell_type": "code",
   "execution_count": null,
   "metadata": {},
   "outputs": [],
   "source": [
    ">>> temperatures_F= []\n",
    ">>> def convert (a):\n",
    "...     f=1.8*a+32\n",
    "...     return f\n",
    "... \n",
    ">>> for t in range(len(temperatures_C)):\n",
    "...     a=temperatures_C[t]\n",
    "...     sol=round(convert(a),2)\n",
    "...     temperatures_F.append(sol)\n",
    "... \n",
    ">>> print(\"Temperatures in Fahrenheit are:\", temperatures_F)\n",
    "Temperatures in Fahrenheit are: [91.4, 150.8, 149.0, 32.0, 138.2, 140.0, 143.6, 147.2, 158.0, 168.8, 176.0, 177.8, 176.0, 181.4, 194.0, 174.2, 141.8, 127.4, 122.0, 120.2, 127.4, 118.4, 113.0, 102.2]"
   ]
  },
  {
   "cell_type": "markdown",
   "metadata": {},
   "source": [
    "#### 7. Make a decision!\n",
    "Now it's time to make a decision taking into account what you have seen until now. \n",
    "\n",
    "Remember that if one of the following events occurs, then the cooling system needs to be replaced for a new one to avoid damaging the processor.\n",
    "* More than 4 temperatures are greater than or equal to 70ºC.\n",
    "* Any temperature is above 80ºC.\n",
    "* The average temperature exceeds 65ºC.\n",
    "\n",
    "#### To make your decision, check if any of the three conditions above is met. You might need to use some of the variables you created in steps 1 to 6. Print a message to show if the cooling system needs to be changed or not."
   ]
  },
  {
   "cell_type": "code",
   "execution_count": null,
   "metadata": {},
   "outputs": [],
   "source": [
    ">>> if (len(highttemp)>4) or (avgtemp>65) or (maximum>80):\n",
    "...     print( \"True, need to change colling system\")\n",
    "... else:\n",
    "...     print(\"False, no need to change cooling system\")\n",
    "... \n",
    "True, need to change colling system"
   ]
  },
  {
   "cell_type": "markdown",
   "metadata": {},
   "source": [
    "## Bonus\n",
    "\n",
    "The company has decided that the decision you made is not valid. They want you to analyze the data again but this time, the conditions that need to be met in order to change the cooling system are different.\n",
    "\n",
    "This time, if one of the following events occurs, then the cooling system needs to be replaced:\n",
    "* The temperature is greater than 70ºC during more than 4 consecutive hours.\n",
    "* Any temperature is above 80ºC.\n",
    "* The average temperature exceeds 65ºC.\n",
    "\n",
    "Follow the steps so that you can make the decision.\n",
    "\n",
    "#### 1. Create a list with the hours where the temperature is greater than 70ºC. Store it in a variable."
   ]
  },
  {
   "cell_type": "code",
   "execution_count": null,
   "metadata": {},
   "outputs": [],
   "source": [
    ">>> highttempH=[]\n",
    ">>> for t in range(0, len(temperatures_C)):\n",
    "...     if temperatures_C[t]>70:\n",
    "...             temperature=temperatures_C[t]\n",
    "...             highttempH.append(t)\n",
    "... \n",
    ">>> print(\"Temperatures higher than 70º in the following hours:\", highttempH)\n",
    "Temperatures higher than 70º in the following hours: [9, 10, 11, 12, 13, 14, 15]"
   ]
  },
  {
   "cell_type": "markdown",
   "metadata": {},
   "source": [
    "#### 2. Check if the list you created in step 1 has more than 4 consecutive hours. "
   ]
  },
  {
   "cell_type": "code",
   "execution_count": null,
   "metadata": {},
   "outputs": [],
   "source": [
    ">>> consecutiveHT= False\n",
    ">>> for t in range(len(temperatures_C)-3):\n",
    "...     if (temperatures_C[t]>70) and (temperatures_C[t+1]>70) and (temperatures_C[t+2]>70) and (temperatures_C[t+3]>70):\n",
    "...             consecutiveHT= True\n",
    "... \n",
    ">>> if consecutiveHT== True:\n",
    "...     print(\"There are 4 or more consecutive hours with temperatures higher than 70º\")\n",
    "... else:\n",
    "...     print(\"There are not 4 or more consecutive hours with temperatures higher than 70º\")\n",
    "... \n",
    "There are 4 or more consecutive hours with temperatures higher than 70º"
   ]
  },
  {
   "cell_type": "markdown",
   "metadata": {},
   "source": [
    "#### 3. Make the decision!\n",
    "To make your decision, check if any of the three conditions is met. Print a message to show if the cooling system needs to be changed or not."
   ]
  },
  {
   "cell_type": "code",
   "execution_count": null,
   "metadata": {},
   "outputs": [],
   "source": [
    ">>> if (len(highttemp)>4) or (avgtemp>65) or (maximum>80):\n",
    "...     print( \"True, need to change colling system\")\n",
    "... else:\n",
    "...     print(\"False, no need to change cooling system\")\n",
    "... \n",
    "True, need to change colling system"
   ]
  },
  {
   "cell_type": "markdown",
   "metadata": {},
   "source": [
    "#### 4. Find the average value of the temperature lists (ºC and ºF). What is the relation between both average values?"
   ]
  },
  {
   "cell_type": "code",
   "execution_count": null,
   "metadata": {},
   "outputs": [],
   "source": [
    ">>> avgtemp=(sum(temperatures_C)/len(temperatures_C))\n",
    ">>> avgtempf=(sum(temperatures_F)/len(temperatures_F))\n",
    ">>> \n",
    ">>> print(\"Average temperature in celsius:\", avgtemp)\n",
    "Average temperature in celsius: 60.25\n",
    ">>> print(\"Average temperature in fahrenheit:\", avgtempf)\n",
    "Average temperature in fahrenheit: 140.45"
   ]
  },
  {
   "cell_type": "markdown",
   "metadata": {},
   "source": [
    "#### 5. Find the standard deviation of the temperature lists (ºC and ºF). What is the relation between both standard deviations?"
   ]
  },
  {
   "cell_type": "code",
   "execution_count": null,
   "metadata": {},
   "outputs": [],
   "source": [
    ">>> summation=0\n",
    ">>> for t in temperatures_C:\n",
    "...     summation+=((t-avgtemp)**2)\n",
    "... \n",
    ">>> stdevtemp=((summation/len(temperatures_C)))**0.5\n",
    ">>> print(\"standard deviation in celsius is:\", stdevtemp)\n",
    "standard deviation in celsius is: 19.285681216902866\n",
    "\n",
    ">>> summationf=0\n",
    ">>> for t in temperatures_F:\n",
    "...     summationf+=((t-avgtempf)**2)\n",
    "... \n",
    ">>> stdevtempf=((summationf/len(temperatures_F)))**0.5\n",
    ">>> print(\"standard deviation in fahrenheit is:\", stdevtempf)\n",
    "standard deviation in fahrenheit is: 34.71422619042516"
   ]
  }
 ],
 "metadata": {
  "kernelspec": {
   "display_name": "Python 3",
   "language": "python",
   "name": "python3"
  },
  "language_info": {
   "codemirror_mode": {
    "name": "ipython",
    "version": 3
   },
   "file_extension": ".py",
   "mimetype": "text/x-python",
   "name": "python",
   "nbconvert_exporter": "python",
   "pygments_lexer": "ipython3",
   "version": "3.9.2"
  }
 },
 "nbformat": 4,
 "nbformat_minor": 2
}
